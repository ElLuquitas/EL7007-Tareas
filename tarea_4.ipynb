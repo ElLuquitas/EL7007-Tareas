{
 "cells": [
  {
   "cell_type": "markdown",
   "metadata": {},
   "source": [
    "# 3. Funciones generales útiles"
   ]
  },
  {
   "cell_type": "code",
   "execution_count": null,
   "metadata": {},
   "outputs": [],
   "source": [
    "# Librerías\n",
    "import numpy as np\n",
    "import matplotlib.pyplot as plt\n",
    "import cv2"
   ]
  },
  {
   "cell_type": "code",
   "execution_count": null,
   "metadata": {},
   "outputs": [],
   "source": [
    "def plot_histogram_rgb(image, vis = False):\n",
    "    '''\n",
    "    Función que permite graficar los histogramas de las componentes RGB de una imagen.\n",
    "\n",
    "    Args:\n",
    "        image: imagen a procesar.\n",
    "    '''\n",
    "    # Cálculo de los histogramas\n",
    "    hist_r = cv2.calcHist([image], [0], None, [256], [0, 256])\n",
    "    hist_g = cv2.calcHist([image], [1], None, [256], [0, 256])\n",
    "    hist_b = cv2.calcHist([image], [2], None, [256], [0, 256])\n",
    "\n",
    "    # Graficar cada uno de los histogramas\n",
    "    if vis:\n",
    "        fig, ax = plt.subplots(1, 3, figsize=(30, 10))\n",
    "        ax[0].plot(hist_r, color='red')\n",
    "        ax[0].set_title('Histograma Rojo')\n",
    "        ax[0].set_xlabel('Intensidad de iluminación')\n",
    "        ax[0].set_ylabel('Cantidad de pixeles')\n",
    "        ax[0].set_xlim([0, 256])\n",
    "\n",
    "        ax[1].plot(hist_g, color='green')\n",
    "        ax[1].set_title('Histograma Verde')\n",
    "        ax[1].set_xlabel('Intensidad de iluminación')\n",
    "        ax[1].set_ylabel('Cantidad de pixeles')\n",
    "        ax[1].set_xlim([0, 256])\n",
    "\n",
    "        ax[2].plot(hist_b, color='blue')\n",
    "        ax[2].set_title('Histograma Azul')\n",
    "        ax[2].set_xlabel('Intensidad de iluminación')\n",
    "        ax[2].set_ylabel('Cantidad de pixeles')\n",
    "        ax[2].set_xlim([0, 256])\n",
    "\n",
    "        plt.show()\n",
    "\n",
    "    return hist_r, hist_g, hist_b\n",
    "\n",
    "def saturated_histogram(array_image):\n",
    "    '''\n",
    "    Función que permite saturar los valores de un histograma, siendo la distribución:\n",
    "    - 0 si el valor es menor a 0.\n",
    "    - 255 si el valor es mayor a 255.\n",
    "\n",
    "    Args:\n",
    "        array_image: arreglo de la imagen a procesar.\n",
    "\n",
    "    Returns:\n",
    "        array_image: arreglo de la imagen con los valores saturados.\n",
    "    '''\n",
    "    # Saturación de los valores\n",
    "    array_image[array_image < 0] = 0\n",
    "    array_image[array_image > 255] = 255\n",
    "\n",
    "    return array_image"
   ]
  },
  {
   "cell_type": "markdown",
   "metadata": {},
   "source": [
    "# 4. Mejora usando Modelos Clásicos"
   ]
  },
  {
   "cell_type": "code",
   "execution_count": null,
   "metadata": {},
   "outputs": [],
   "source": [
    "def contrast_extend(image, channel, lim_a, lim_b):\n",
    "    '''\n",
    "    Función que permite extender el contraste de una imagen.\n",
    "\n",
    "    Args:\n",
    "        image: imagen a procesar.\n",
    "        channel: canal de la imagen a procesar.\n",
    "        lim_a: límite inferior.\n",
    "        lim_b: límite superior.\n",
    "\n",
    "    Returns:\n",
    "        image: imagen con el contraste extendido.\n",
    "    '''\n",
    "    # Cálculo de la imagen con el contraste extendido\n",
    "    image[:, :, channel] = (image[:, :, channel] - lim_a) * (255 / (lim_b - lim_a))\n",
    "\n",
    "    # Saturación de los valores\n",
    "    image[:, :, channel] = saturated_histogram(image[:, :, channel])\n",
    "\n",
    "    return image\n",
    "\n",
    "def equal_hist(image):\n",
    "    '''\n",
    "    Función que se encarga de la equalización del histograma\n",
    "    de una imagen de entrada, siguiendo como referencia la función\n",
    "    look-up table.\n",
    "\n",
    "    Args:\n",
    "        image: imagen a procesar.\n",
    "\n",
    "    Returns:\n",
    "        image: imagen con el histograma equalizado.\n",
    "    '''\n",
    "    L = 256\n",
    "\n",
    "    # Cálculo del histograma y su acumulado\n",
    "    hist_r, hist_g, hist_b = plot_histogram_rgb(image)\n",
    "    cdf_r = hist_r.cumsum()\n",
    "    cdf_g = hist_g.cumsum()\n",
    "    cdf_b = hist_b.cumsum()"
   ]
  }
 ],
 "metadata": {
  "kernelspec": {
   "display_name": "Python 3",
   "language": "python",
   "name": "python3"
  },
  "language_info": {
   "name": "python",
   "version": "3.8.10"
  }
 },
 "nbformat": 4,
 "nbformat_minor": 2
}
